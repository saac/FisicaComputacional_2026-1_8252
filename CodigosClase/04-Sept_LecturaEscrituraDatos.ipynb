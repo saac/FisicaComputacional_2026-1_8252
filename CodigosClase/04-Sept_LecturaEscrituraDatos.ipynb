{
 "cells": [
  {
   "cell_type": "code",
   "execution_count": 1,
   "id": "2c1efb73-159b-44fd-ac07-7e048b94359e",
   "metadata": {},
   "outputs": [],
   "source": [
    "import numpy as np"
   ]
  },
  {
   "cell_type": "code",
   "execution_count": 2,
   "id": "ef231b22-ad67-4221-a01f-3b82b1210b34",
   "metadata": {},
   "outputs": [],
   "source": [
    "recipiente = open(\"datos.dat\", \"r\")    # esto es un buffer\n",
    "datos = recipiente.readlines()"
   ]
  },
  {
   "cell_type": "code",
   "execution_count": 3,
   "id": "ca51d0d3-9c13-4324-a932-cac0eca3052f",
   "metadata": {},
   "outputs": [
    {
     "data": {
      "text/plain": [
       "['0', '8']"
      ]
     },
     "execution_count": 3,
     "metadata": {},
     "output_type": "execute_result"
    }
   ],
   "source": [
    "datos[0].split()"
   ]
  },
  {
   "cell_type": "code",
   "execution_count": 4,
   "id": "030cb29c-b867-4f91-bc4b-6f3f57b90e10",
   "metadata": {},
   "outputs": [],
   "source": [
    "# datos\n",
    "\n",
    "M = []\n",
    "\n",
    "for k in datos:\n",
    "    M.append(k.split())"
   ]
  },
  {
   "cell_type": "code",
   "execution_count": 5,
   "id": "ff2ef53b-82da-4d25-ba30-c456bbfae604",
   "metadata": {},
   "outputs": [
    {
     "data": {
      "text/plain": [
       "['0 \\t 8 \\n',\n",
       " '1 \\t 23 \\n',\n",
       " '2 \\t 48 \\n',\n",
       " '3 \\t 83 \\n',\n",
       " '4 \\t 128 \\n',\n",
       " '5 \\t 183 \\n',\n",
       " '6 \\t 248 \\n',\n",
       " '7 \\t 323 \\n',\n",
       " '8 \\t 408 \\n',\n",
       " '9 \\t 503 \\n',\n",
       " '10 \\t 608 \\n',\n",
       " '11 \\t 723 \\n',\n",
       " '12 \\t 848 \\n',\n",
       " '13 \\t 983 \\n',\n",
       " '14 \\t 1128 \\n',\n",
       " '15 \\t 1283 \\n',\n",
       " '16 \\t 1448 \\n',\n",
       " '17 \\t 1623 \\n',\n",
       " '18 \\t 1808 \\n',\n",
       " '19 \\t 2003 \\n',\n",
       " '20 \\t 2208 \\n',\n",
       " '21 \\t 2423 \\n',\n",
       " '22 \\t 2648 \\n',\n",
       " '23 \\t 2883 \\n',\n",
       " '24 \\t 3128 \\n',\n",
       " '25 \\t 3383 \\n',\n",
       " '26 \\t 3648 \\n',\n",
       " '27 \\t 3923 \\n',\n",
       " '28 \\t 4208 \\n',\n",
       " '29 \\t 4503 \\n',\n",
       " '30 \\t 4808 \\n',\n",
       " '31 \\t 5123 \\n',\n",
       " '32 \\t 5448 \\n',\n",
       " '33 \\t 5783 \\n',\n",
       " '34 \\t 6128 \\n',\n",
       " '35 \\t 6483 \\n',\n",
       " '36 \\t 6848 \\n',\n",
       " '37 \\t 7223 \\n',\n",
       " '38 \\t 7608 \\n',\n",
       " '39 \\t 8003 \\n',\n",
       " '40 \\t 8408 \\n',\n",
       " '41 \\t 8823 \\n',\n",
       " '42 \\t 9248 \\n',\n",
       " '43 \\t 9683 \\n',\n",
       " '44 \\t 10128 \\n',\n",
       " '45 \\t 10583 \\n',\n",
       " '46 \\t 11048 \\n',\n",
       " '47 \\t 11523 \\n',\n",
       " '48 \\t 12008 \\n',\n",
       " '49 \\t 12503 \\n',\n",
       " '50 \\t 13008 \\n',\n",
       " '51 \\t 13523 \\n',\n",
       " '52 \\t 14048 \\n',\n",
       " '53 \\t 14583 \\n',\n",
       " '54 \\t 15128 \\n',\n",
       " '55 \\t 15683 \\n',\n",
       " '56 \\t 16248 \\n',\n",
       " '57 \\t 16823 \\n',\n",
       " '58 \\t 17408 \\n',\n",
       " '59 \\t 18003 \\n',\n",
       " '60 \\t 18608 \\n',\n",
       " '61 \\t 19223 \\n',\n",
       " '62 \\t 19848 \\n',\n",
       " '63 \\t 20483 \\n',\n",
       " '64 \\t 21128 \\n',\n",
       " '65 \\t 21783 \\n',\n",
       " '66 \\t 22448 \\n',\n",
       " '67 \\t 23123 \\n',\n",
       " '68 \\t 23808 \\n',\n",
       " '69 \\t 24503 \\n',\n",
       " '70 \\t 25208 \\n',\n",
       " '71 \\t 25923 \\n',\n",
       " '72 \\t 26648 \\n',\n",
       " '73 \\t 27383 \\n',\n",
       " '74 \\t 28128 \\n',\n",
       " '75 \\t 28883 \\n',\n",
       " '76 \\t 29648 \\n',\n",
       " '77 \\t 30423 \\n',\n",
       " '78 \\t 31208 \\n',\n",
       " '79 \\t 32003 \\n',\n",
       " '80 \\t 32808 \\n',\n",
       " '81 \\t 33623 \\n',\n",
       " '82 \\t 34448 \\n',\n",
       " '83 \\t 35283 \\n',\n",
       " '84 \\t 36128 \\n',\n",
       " '85 \\t 36983 \\n',\n",
       " '86 \\t 37848 \\n',\n",
       " '87 \\t 38723 \\n',\n",
       " '88 \\t 39608 \\n',\n",
       " '89 \\t 40503 \\n',\n",
       " '90 \\t 41408 \\n',\n",
       " '91 \\t 42323 \\n',\n",
       " '92 \\t 43248 \\n',\n",
       " '93 \\t 44183 \\n',\n",
       " '94 \\t 45128 \\n',\n",
       " '95 \\t 46083 \\n',\n",
       " '96 \\t 47048 \\n',\n",
       " '97 \\t 48023 \\n',\n",
       " '98 \\t 49008 \\n',\n",
       " '99 \\t 50003 \\n']"
      ]
     },
     "execution_count": 5,
     "metadata": {},
     "output_type": "execute_result"
    }
   ],
   "source": [
    "datos"
   ]
  },
  {
   "cell_type": "code",
   "execution_count": 6,
   "id": "55dd5b38-9e3a-4bf0-92d4-18f756bbabfe",
   "metadata": {},
   "outputs": [],
   "source": [
    "A = []\n",
    "B = []\n",
    "for i in M:\n",
    "    A.append(float(i[0]))\n",
    "    B.append(float(i[1]))  \n",
    "v1 = np.array(A)\n",
    "v2 = np.array(B)"
   ]
  },
  {
   "cell_type": "code",
   "execution_count": 7,
   "id": "e4eca2ef-13b9-4671-a76b-c101b9d1116b",
   "metadata": {},
   "outputs": [
    {
     "data": {
      "text/plain": [
       "array([ 0.,  1.,  2.,  3.,  4.,  5.,  6.,  7.,  8.,  9., 10., 11., 12.,\n",
       "       13., 14., 15., 16., 17., 18., 19., 20., 21., 22., 23., 24., 25.,\n",
       "       26., 27., 28., 29., 30., 31., 32., 33., 34., 35., 36., 37., 38.,\n",
       "       39., 40., 41., 42., 43., 44., 45., 46., 47., 48., 49., 50., 51.,\n",
       "       52., 53., 54., 55., 56., 57., 58., 59., 60., 61., 62., 63., 64.,\n",
       "       65., 66., 67., 68., 69., 70., 71., 72., 73., 74., 75., 76., 77.,\n",
       "       78., 79., 80., 81., 82., 83., 84., 85., 86., 87., 88., 89., 90.,\n",
       "       91., 92., 93., 94., 95., 96., 97., 98., 99.])"
      ]
     },
     "execution_count": 7,
     "metadata": {},
     "output_type": "execute_result"
    }
   ],
   "source": [
    "v1"
   ]
  },
  {
   "cell_type": "code",
   "execution_count": 8,
   "id": "8ce2fbb3-c063-46c3-a5e2-247b17a45000",
   "metadata": {},
   "outputs": [],
   "source": [
    "A = []\n",
    "B = []\n",
    "for i in M:\n",
    "    A.append(i[0])\n",
    "    B.append(i[1])    \n",
    "v1 = np.array(A,float)\n",
    "v2 = np.array(B,float)"
   ]
  },
  {
   "cell_type": "code",
   "execution_count": 9,
   "id": "c92974d2-cac5-46c7-87cb-d97c9873e47a",
   "metadata": {},
   "outputs": [
    {
     "data": {
      "text/plain": [
       "array([ 0.,  1.,  2.,  3.,  4.,  5.,  6.,  7.,  8.,  9., 10., 11., 12.,\n",
       "       13., 14., 15., 16., 17., 18., 19., 20., 21., 22., 23., 24., 25.,\n",
       "       26., 27., 28., 29., 30., 31., 32., 33., 34., 35., 36., 37., 38.,\n",
       "       39., 40., 41., 42., 43., 44., 45., 46., 47., 48., 49., 50., 51.,\n",
       "       52., 53., 54., 55., 56., 57., 58., 59., 60., 61., 62., 63., 64.,\n",
       "       65., 66., 67., 68., 69., 70., 71., 72., 73., 74., 75., 76., 77.,\n",
       "       78., 79., 80., 81., 82., 83., 84., 85., 86., 87., 88., 89., 90.,\n",
       "       91., 92., 93., 94., 95., 96., 97., 98., 99.])"
      ]
     },
     "execution_count": 9,
     "metadata": {},
     "output_type": "execute_result"
    }
   ],
   "source": [
    "v1"
   ]
  },
  {
   "cell_type": "code",
   "execution_count": 10,
   "id": "96b30790-eb2a-406f-8120-10196a8cc348",
   "metadata": {},
   "outputs": [],
   "source": [
    "A = []\n",
    "B = []\n",
    "for i in M:\n",
    "    A.append(i[0])\n",
    "    B.append(i[1])    \n",
    "v1 = np.array(A,float)\n",
    "v2 = np.array(B,float)"
   ]
  },
  {
   "cell_type": "code",
   "execution_count": null,
   "id": "31662f97-8da6-4bbd-8895-7050ca53ff75",
   "metadata": {},
   "outputs": [],
   "source": []
  },
  {
   "cell_type": "code",
   "execution_count": null,
   "id": "0c85a3a2-872c-40e7-a69d-51f246ae9bcb",
   "metadata": {},
   "outputs": [],
   "source": []
  },
  {
   "cell_type": "markdown",
   "id": "4f534dbd-f78c-4f6c-8197-52ca6e6fce91",
   "metadata": {},
   "source": [
    "## Escritura de Datos"
   ]
  },
  {
   "cell_type": "code",
   "execution_count": 11,
   "id": "85500d14-766f-4931-be01-eb07a857c224",
   "metadata": {},
   "outputs": [],
   "source": [
    "def fibonacci(n):\n",
    "    \n",
    "    output = []\n",
    "    \n",
    "    f1,f2 = 1,1\n",
    "\n",
    "    while f2 < n:\n",
    "        output.append(float(f2))        \n",
    "        f1,f2 = f2,f1+f2\n",
    "    \n",
    "    return output\n"
   ]
  },
  {
   "cell_type": "code",
   "execution_count": 12,
   "id": "3d88e8ce-29a6-4b7e-ad0d-30768dc7c39c",
   "metadata": {},
   "outputs": [
    {
     "data": {
      "text/plain": [
       "[1.0,\n",
       " 2.0,\n",
       " 3.0,\n",
       " 5.0,\n",
       " 8.0,\n",
       " 13.0,\n",
       " 21.0,\n",
       " 34.0,\n",
       " 55.0,\n",
       " 89.0,\n",
       " 144.0,\n",
       " 233.0,\n",
       " 377.0,\n",
       " 610.0,\n",
       " 987.0]"
      ]
     },
     "execution_count": 12,
     "metadata": {},
     "output_type": "execute_result"
    }
   ],
   "source": [
    "fibonacci(1000)"
   ]
  },
  {
   "cell_type": "code",
   "execution_count": 47,
   "id": "a22cd379-46d6-41c3-9cca-f718a2134ceb",
   "metadata": {},
   "outputs": [],
   "source": [
    "# primero debo generar datos\n",
    "\n",
    "fibo = fibonacci(10000)\n",
    "\n",
    "tubo = open(\"resultados.dat\", \"w\")  # Esto es un buffer de salida\n",
    "\n",
    "\n",
    "for i in fibo:\n",
    "    tubo.write(\"%i \\n\" % i)\n",
    "tubo.close()"
   ]
  },
  {
   "cell_type": "code",
   "execution_count": null,
   "id": "ffe7572d-5cc7-4284-9a95-9c1cc0229262",
   "metadata": {},
   "outputs": [],
   "source": []
  }
 ],
 "metadata": {
  "kernelspec": {
   "display_name": "Python 3 (ipykernel)",
   "language": "python",
   "name": "python3"
  },
  "language_info": {
   "codemirror_mode": {
    "name": "ipython",
    "version": 3
   },
   "file_extension": ".py",
   "mimetype": "text/x-python",
   "name": "python",
   "nbconvert_exporter": "python",
   "pygments_lexer": "ipython3",
   "version": "3.12.3"
  }
 },
 "nbformat": 4,
 "nbformat_minor": 5
}
