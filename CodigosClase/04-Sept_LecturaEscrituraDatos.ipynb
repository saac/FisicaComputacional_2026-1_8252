{
 "cells": [
  {
   "cell_type": "code",
   "execution_count": null,
   "id": "2c1efb73-159b-44fd-ac07-7e048b94359e",
   "metadata": {},
   "outputs": [],
   "source": [
    "import numpy as np"
   ]
  },
  {
   "cell_type": "code",
   "execution_count": null,
   "id": "ef231b22-ad67-4221-a01f-3b82b1210b34",
   "metadata": {},
   "outputs": [],
   "source": [
    "recipiente = open(\"datos.dat\", \"r\")    # esto es un buffer\n",
    "datos = recipiente.readlines()"
   ]
  },
  {
   "cell_type": "code",
   "execution_count": null,
   "id": "ca51d0d3-9c13-4324-a932-cac0eca3052f",
   "metadata": {},
   "outputs": [],
   "source": [
    "datos[0].split()"
   ]
  },
  {
   "cell_type": "code",
   "execution_count": null,
   "id": "030cb29c-b867-4f91-bc4b-6f3f57b90e10",
   "metadata": {},
   "outputs": [],
   "source": [
    "# datos\n",
    "\n",
    "M = []\n",
    "\n",
    "for k in datos:\n",
    "    M.append(k.split())"
   ]
  },
  {
   "cell_type": "code",
   "execution_count": null,
   "id": "ff2ef53b-82da-4d25-ba30-c456bbfae604",
   "metadata": {},
   "outputs": [],
   "source": [
    "datos"
   ]
  },
  {
   "cell_type": "code",
   "execution_count": null,
   "id": "55dd5b38-9e3a-4bf0-92d4-18f756bbabfe",
   "metadata": {},
   "outputs": [],
   "source": [
    "A = []\n",
    "B = []\n",
    "for i in M:\n",
    "    A.append(float(i[0]))\n",
    "    B.append(float(i[1]))  \n",
    "v1 = np.array(A)\n",
    "v2 = np.array(B)"
   ]
  },
  {
   "cell_type": "code",
   "execution_count": null,
   "id": "e4eca2ef-13b9-4671-a76b-c101b9d1116b",
   "metadata": {},
   "outputs": [],
   "source": [
    "v1"
   ]
  },
  {
   "cell_type": "code",
   "execution_count": null,
   "id": "8ce2fbb3-c063-46c3-a5e2-247b17a45000",
   "metadata": {},
   "outputs": [],
   "source": [
    "A = []\n",
    "B = []\n",
    "for i in M:\n",
    "    A.append(i[0])\n",
    "    B.append(i[1])    \n",
    "v1 = np.array(A,float)\n",
    "v2 = np.array(B,float)"
   ]
  },
  {
   "cell_type": "code",
   "execution_count": null,
   "id": "c92974d2-cac5-46c7-87cb-d97c9873e47a",
   "metadata": {},
   "outputs": [],
   "source": [
    "v1"
   ]
  },
  {
   "cell_type": "code",
   "execution_count": null,
   "id": "96b30790-eb2a-406f-8120-10196a8cc348",
   "metadata": {},
   "outputs": [],
   "source": [
    "A = []\n",
    "B = []\n",
    "for i in M:\n",
    "    A.append(i[0])\n",
    "    B.append(i[1])    \n",
    "v1 = np.array(A,float)\n",
    "v2 = np.array(B,float)"
   ]
  },
  {
   "cell_type": "code",
   "execution_count": null,
   "id": "31662f97-8da6-4bbd-8895-7050ca53ff75",
   "metadata": {},
   "outputs": [],
   "source": []
  },
  {
   "cell_type": "code",
   "execution_count": null,
   "id": "0c85a3a2-872c-40e7-a69d-51f246ae9bcb",
   "metadata": {},
   "outputs": [],
   "source": []
  },
  {
   "cell_type": "markdown",
   "id": "4f534dbd-f78c-4f6c-8197-52ca6e6fce91",
   "metadata": {},
   "source": [
    "## Escritura de Datos"
   ]
  },
  {
   "cell_type": "code",
   "execution_count": null,
   "id": "85500d14-766f-4931-be01-eb07a857c224",
   "metadata": {},
   "outputs": [],
   "source": [
    "def fibonacci(n):\n",
    "    \n",
    "    output = []\n",
    "    \n",
    "    f1,f2 = 1,1\n",
    "\n",
    "    while f2 < n:\n",
    "        output.append(float(f2))        \n",
    "        f1,f2 = f2,f1+f2\n",
    "    \n",
    "    return output\n"
   ]
  },
  {
   "cell_type": "code",
   "execution_count": null,
   "id": "3d88e8ce-29a6-4b7e-ad0d-30768dc7c39c",
   "metadata": {},
   "outputs": [],
   "source": [
    "fibonacci(1000)"
   ]
  },
  {
   "cell_type": "code",
   "execution_count": null,
   "id": "a22cd379-46d6-41c3-9cca-f718a2134ceb",
   "metadata": {},
   "outputs": [],
   "source": [
    "# primero debo generar datos\n",
    "\n",
    "fibo = fibonacci(10000)\n",
    "\n",
    "tubo = open(\"resultados.txt\", \"w\")  # Esto es un buffer de salida\n",
    "\n",
    "\n",
    "for i in fibo:\n",
    "    tubo.write(\"%i \\n\" % i)\n",
    "tubo.close()"
   ]
  },
  {
   "cell_type": "code",
   "execution_count": null,
   "id": "ffe7572d-5cc7-4284-9a95-9c1cc0229262",
   "metadata": {},
   "outputs": [],
   "source": []
  }
 ],
 "metadata": {
  "kernelspec": {
   "display_name": "Python 3 (ipykernel)",
   "language": "python",
   "name": "python3"
  },
  "language_info": {
   "codemirror_mode": {
    "name": "ipython",
    "version": 3
   },
   "file_extension": ".py",
   "mimetype": "text/x-python",
   "name": "python",
   "nbconvert_exporter": "python",
   "pygments_lexer": "ipython3",
   "version": "3.12.3"
  }
 },
 "nbformat": 4,
 "nbformat_minor": 5
}
