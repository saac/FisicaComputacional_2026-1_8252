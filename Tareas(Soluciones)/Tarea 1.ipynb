{
 "cells": [
  {
   "cell_type": "markdown",
   "id": "e8fa2ac5",
   "metadata": {},
   "source": [
    "# Solución de Tarea 1\n",
    "(Hecha en la clase del 2 de Septiembre del 2025)"
   ]
  },
  {
   "cell_type": "markdown",
   "id": "643e86dd",
   "metadata": {},
   "source": [
    "## Problema 1"
   ]
  },
  {
   "cell_type": "markdown",
   "id": "9f1f8b54",
   "metadata": {},
   "source": [
    "### Inciso a"
   ]
  },
  {
   "cell_type": "markdown",
   "id": "ad1506e1",
   "metadata": {},
   "source": [
    "Esto lo vimos en clase :P"
   ]
  },
  {
   "cell_type": "markdown",
   "id": "43578722",
   "metadata": {},
   "source": [
    "### Inciso b"
   ]
  },
  {
   "cell_type": "code",
   "execution_count": 1,
   "id": "2e79d897",
   "metadata": {},
   "outputs": [],
   "source": [
    "# Importamos la biblioteca math, debido a que usaremos el valor de pi aquí dado, y tambien para la función sqrt\n",
    "import math as mt"
   ]
  },
  {
   "cell_type": "code",
   "execution_count": 2,
   "id": "ea0846ee",
   "metadata": {},
   "outputs": [],
   "source": [
    "# Definimos el valor de las constantes en unidades del SI\n",
    "G = 6.67e-11 # m^3 / kg s\n",
    "M = 5.97e24 # kg\n",
    "R = 6.371e6 # m"
   ]
  },
  {
   "cell_type": "code",
   "execution_count": 3,
   "id": "714ca71f",
   "metadata": {},
   "outputs": [],
   "source": [
    "# Definimos la función que nos da el valor de la altura en función del periodo orbital\n",
    "def Altura(T): # T esta en s\n",
    "    h = (G*M*(T**2)/(4 *(mt.pi**2)))**(1/3) - R # Ojito con los parentesis\n",
    "    return h # m"
   ]
  },
  {
   "cell_type": "code",
   "execution_count": 4,
   "id": "70257446",
   "metadata": {},
   "outputs": [
    {
     "data": {
      "text/plain": [
       "-1295854.7452501757"
      ]
     },
     "execution_count": 4,
     "metadata": {},
     "output_type": "execute_result"
    }
   ],
   "source": [
    "# Comprobamos que la función funcione correctamente\n",
    "Altura(60*60) # Para periodo de una hora"
   ]
  },
  {
   "cell_type": "markdown",
   "id": "bb7053fc",
   "metadata": {},
   "source": [
    "### Inciso c"
   ]
  },
  {
   "cell_type": "code",
   "execution_count": 5,
   "id": "b1d1677a",
   "metadata": {},
   "outputs": [
    {
     "name": "stdout",
     "output_type": "stream",
     "text": [
      "La altura de un satelite con órbita geoestacionaria es  35855910.176174976  m\n",
      "La altura de un satelite que orbitá con un perio de 90 minutos es  279321.6253728606  m\n",
      "La altura de un satelite que orbitá con un perio de 45 minutos es  -2181559.8978108233  m\n"
     ]
    }
   ],
   "source": [
    "# Damos los resultados \n",
    "print(\"La altura de un satelite con órbita geoestacionaria es \", Altura(24*60*60), \" m\")\n",
    "print(\"La altura de un satelite que orbitá con un perio de 90 minutos es \", Altura(90*60), \" m\")\n",
    "print(\"La altura de un satelite que orbitá con un perio de 45 minutos es \", Altura(45*60), \" m\")"
   ]
  },
  {
   "cell_type": "markdown",
   "id": "f7ec8131",
   "metadata": {},
   "source": [
    "La conclusión esperada es que la última órbita es imposible, ya que el resultado negativo implica que el satelite tiene que orbitar dentro de la tierra, y esto no se puede."
   ]
  },
  {
   "cell_type": "markdown",
   "id": "68079999",
   "metadata": {},
   "source": [
    "## Problema 2"
   ]
  },
  {
   "cell_type": "code",
   "execution_count": 6,
   "id": "93f244c3",
   "metadata": {},
   "outputs": [
    {
     "name": "stdout",
     "output_type": "stream",
     "text": [
      "La probabilidad de transmisión:  0.7301261363877618\n",
      "La probabilidad de reflexión:  0.26987386361223836\n"
     ]
    }
   ],
   "source": [
    "\"\"\"\n",
    "    Definimos el valor de las constantes, y como se hizo mención en clase los \n",
    "    valores de m, hbarra e incluso 2 son innecesarios para obtener los resultados (ya que se anulan).\n",
    "\"\"\"\n",
    "E = 10 # eV\n",
    "V = 9 # eV\n",
    "m =  9 # Masas solare\n",
    "hbarra = 14 # K-V\n",
    "Dos = mt.e # veces la velocidad de la luz\n",
    "\n",
    "# Calculamos los vectores o números de onda\n",
    "k1 = (Dos * m * E)**(1/2) / hbarra\n",
    "k2 = (Dos * m * (E-V))**(1/2) / hbarra\n",
    "\n",
    "# Calculamos las probabilidades de transmisión y reflexión\n",
    "T = 4*k1*k2/((k1+k2)**2) \n",
    "R = ((k1-k2)/(k1+k2))**2\n",
    "\n",
    "# Y mostramos los resultados\n",
    "print(\"La probabilidad de transmisión: \",T)\n",
    "print(\"La probabilidad de reflexión: \",R)"
   ]
  },
  {
   "cell_type": "markdown",
   "id": "87e90805",
   "metadata": {},
   "source": [
    "## Problema 3"
   ]
  },
  {
   "cell_type": "markdown",
   "id": "ce3a4cff",
   "metadata": {},
   "source": [
    "### Inciso a"
   ]
  },
  {
   "cell_type": "markdown",
   "id": "ce8b61dc",
   "metadata": {},
   "source": [
    "Para demostrar lo que se nos pide partimos de expresar la energía para el afelio y perihelio, las cuales son:\n",
    "$$\n",
    "    E_i = K_i + V_i \n",
    "    = {1 \\over 2} m v_i^2 - \\frac{G m M}{l_i}\n",
    "$$\n",
    "donde $i=1,2$.\\\n",
    "Utilizando la conservación de la energía tenemos que $E_1 = E_2$, que explicitamente implica la ecuación:\n",
    "$$\n",
    "    {1 \\over 2} m v_1^2 - \\frac{G m M}{l_1}\n",
    "    = {1 \\over 2} m v_2^2 - \\frac{G m M}{l_2}.\n",
    "$$\n",
    "Si sobre la ecuación previa multiplicamos el factor ${2 \\over m}$ implica que:\n",
    "$$\n",
    "    v_1^2 - \\frac{2 G M}{l_1}\n",
    "    = v_2^2 - \\frac{2 G M}{l_2}.\n",
    "$$\n",
    "Y volviendo homogenea la ecuación se llega a:\n",
    "$$\n",
    "    v_2^2 - \\frac{2 G M}{l_2} -\n",
    "    \\left[ v_1^2 - \\frac{2 G M}{l_1} \\right]\n",
    "    = 0.\n",
    "$$\n",
    "Ahora, utilizando la segunda ley de Kepler que indica que $v_1 l_1 = v_2 l_2 $, se puede sustituir el valor de la distancia del afelio como $l_2 = {v_1 \\over v_2} l_1 $, y sustituyendo esto en la ecuación previa se obtiene la ecuación que se buscaba.\n",
    "$$\n",
    "    \\therefore \\qquad\n",
    "    v_2^2 - \\frac{2 G M}{v_1 l_1} v_2 -\n",
    "    \\left[ v_1^2 - \\frac{2 G M}{l_1} \\right]\n",
    "    = 0\n",
    "$$\n",
    "Ahora, podemos simplificar esta ecuación notando que tiene como factor comun la diferencia de las velocidades, es decir:\n",
    "$$\n",
    "    v_2^2 - v_1^2\n",
    "    - \\frac{2 G M}{v_1 l_1} v_2 \n",
    "    + \\frac{2 G M}{v_1 l_1} v_1\n",
    "    = 0\n",
    "    \\qquad \\Rightarrow \\qquad\n",
    "    (v_2 - v_1)\n",
    "    \\left( v_2 + v_1 - \\frac{2 G M}{v_1 l_1} \\right)\n",
    "    = 0.\n",
    "$$\n",
    "Esto quiere decir que $v_1$ es una de las raices de la ecuación, pero como $v_2 \\leq v_1$ (por la propia relación proveniente de la segunda ley de Kepler $v_2 = {l_1 \\over l_2} v_1$ y dado que ${l_1 \\over l_2} \\leq 1$) esto implica que la $v_2$ corresponde a la raíz más pequeña de la ecuación.\\\n",
    "Quiza te quede la duda de que pasa cuando $v_2 = v_1$, en este caso argumentar que debemos escoger a la raíz que sea la menor a la otra no es suficente, pero esto ocurre cuando la orbita es circular, y esto quiere decir que la ecuación que se dedujo solo tiene una raíz, y es justamente $v_1$."
   ]
  },
  {
   "cell_type": "markdown",
   "id": "d9c1edd5",
   "metadata": {},
   "source": [
    "### Observación extra\n",
    "\n",
    "En este problema nunca se menciona esta cuestión, pero es importante notarlo.\\\n",
    "El objetivo es construir un programa donde se deduzca $v_2$ (y las demas magnitudes de interes) a partir de los valores iniciales $v_1$ y $l_1$, dados por el usuario. Pero vale la pena preguntarnos ¿Cualquier par de valores $v_1$ y $l_1$ funcionan? La respuesta es NO.\\\n",
    "Dejando de lado que los valores que se deben ingresar tengan sentido matematico (sean reales positivos), hay 2 puntos que son indispensables para que estos valores sean adecuados fisicamente, estos son:\n",
    "<ol>\n",
    "    <li>\n",
    "        <b>Los valores corresponden a una orbita.</b>\n",
    "        Para que esto pase la energía del sistema debe de ser una energía de enlace, <i>i.e.</i> $E \\leq 0$.\n",
    "        El resultado de esto es que se debe cumplir la desigualdad:\n",
    "        $$\n",
    "            v_1^2 l_2 < 2 G M.\n",
    "        $$\n",
    "    </li> \n",
    "    <li>\n",
    "        <b>Los valores corresponden al del perihelio.</b>\n",
    "        Se podrian dar cualquier par de valores de una órbita, pero esto no garantiza que correspondan al del perihelio, incluso se podrían dar los propios valores del afelio ¿Qué pasaría en este caso?\n",
    "        El resultado de esto es que se debe cumplir la desigualdad:\n",
    "        $$\n",
    "            GM \\leq v_1^2 l_2.\n",
    "        $$\n",
    "    </li> \n",
    "</ol>\n",
    "Les dejo a ustedes demostrar dichas desigualdades. \n",
    "\n",
    "Entonces la condición para que los valores sean los adecuados es:\n",
    "$$\n",
    "    GM \\leq v_1^2 l_2 < 2 GM.\n",
    "$$\n",
    "Es importante notar esto, porque el usuario puede introducir valores que no arrojen resultados absurdos. \n",
    "Y en general, para cualquier código, puede que en el proceso obtengamos resultados absurdos consecuencia de tomar datos absurdos como nuestros datos iniciales, y si tratamos de impedir de que el código trabaje con este tipo de datos desde un incio nos puede ahorrar un dolor de cabeza al momento de corregir un error que no existe en nuestro código."
   ]
  },
  {
   "cell_type": "markdown",
   "id": "03e8ea86",
   "metadata": {},
   "source": [
    "### Inciso b"
   ]
  },
  {
   "cell_type": "code",
   "execution_count": 7,
   "id": "1d2b5484",
   "metadata": {},
   "outputs": [],
   "source": [
    "# Definimos el valor de las constantes en unidades del SI, con los digitos correspondientes\n",
    "G = 6.6738e-11 # m^3 / kg s\n",
    "M = 1.9891e30 # kg"
   ]
  },
  {
   "cell_type": "code",
   "execution_count": 8,
   "id": "91ef91f0",
   "metadata": {},
   "outputs": [],
   "source": [
    "# Definimos algunas funciones que nos ayudaran para obtener los valores solicitados\n",
    "\n",
    "# Aquí la chicharronera de toda la vida\n",
    "def chicharronera(a,b,c):\n",
    "    # a x² + bx + c = 0\n",
    "    x_1= (-b + mt.sqrt(b**2- 4*a*c))/(2*a)\n",
    "    x_2= (-b - mt.sqrt(b**2- 4*a*c))/(2*a)\n",
    "    return x_1,x_2 # Regresamos ambas raices, primero la mayor seguida por la menor\n",
    "\n",
    "# La función para calcular la velocidad del afelio\n",
    "def Vafelio(v1,l1):\n",
    "    # Ponemos las condiciones para aplicar la chicharronera, esto es poner los coficientes correspondientes\n",
    "    a = 1\n",
    "    b = -(2*G*M)/(v1 * l1)\n",
    "    c = -(v1**2 - (2*G*M)/(l1))\n",
    "    vM,vm = chicharronera(a,b,c) \n",
    "    return vm # Regresamos solo la raíz menor\n",
    "\n",
    "# La función donde se obtiene los valores solicitados\n",
    "def FuncionFinal(v1,l1):\n",
    "    if not (G*M <= l1*(v1**2) < 2*G*M): # Se coloca una condión para el caso mencionado anteriormente\n",
    "        print(\"Los valores dados no corresponden a los del perihelio de una órbita.\")\n",
    "        return 0,0,0,0 # Detenemos la función\n",
    "    v2 = Vafelio(v1,l1) #\n",
    "    # Tambien nos podemos ahorrar lo anterior solo poniendo el valor de la raíz ya calculada\n",
    "    # v2 = 2*G*M/(l1*v1) - v1\n",
    "    # Y calculamos\n",
    "    l2 = l1*v1/v2\n",
    "    a = (l1+l2)/2\n",
    "    b = mt.sqrt(l1*l2)\n",
    "    T = (2 * mt.pi * a * b)/(l1*v1) # El periodo estara en segundos \n",
    "    e = (l2-l1)/(l2+l1)\n",
    "    return v2,l2,T,e\n"
   ]
  },
  {
   "cell_type": "code",
   "execution_count": 9,
   "id": "1a1679b6",
   "metadata": {},
   "outputs": [
    {
     "name": "stdout",
     "output_type": "stream",
     "text": [
      "Introduce los valores del perihelio de un objeto orbitando alrededor del sol.\n",
      "Distancia al sol (en metros): 2e10\n",
      "Velocidad (en metros sobre segundo): 1e5\n"
     ]
    }
   ],
   "source": [
    "# Solicitamos los valores al usuario\n",
    "print(\"Introduce los valores del perihelio de un objeto orbitando alrededor del sol.\")\n",
    "l1 = float(input(\"Distancia al sol (en metros): \"))\n",
    "v1 = float(input(\"Velocidad (en metros sobre segundo): \"))\n",
    "# Y obtenemos los valores \n",
    "v2,l2,T,e = FuncionFinal(v1,l1)"
   ]
  },
  {
   "cell_type": "code",
   "execution_count": 10,
   "id": "e3471760",
   "metadata": {},
   "outputs": [
    {
     "name": "stdout",
     "output_type": "stream",
     "text": [
      "En el afelio el objeto tiene una velocidad de 3.2749e+04 m/s y una distancia al sol de 6.1071e+10 m.\n",
      "El objeto tiene una orbita con periodo de 4.4506e+06 s y excentricidad de 0.5066.\n"
     ]
    }
   ],
   "source": [
    "# Y presentamos los resultados\n",
    "print(\"En el afelio el objeto tiene \",end=\"\")\n",
    "print(f\"una velocidad de {v2:.4e} m/s \",end=\"\")\n",
    "print(f\"y una distancia al sol de {l2:.4e} m.\")\n",
    "print(\"El objeto tiene una orbita con \",end=\"\")\n",
    "print(f\"periodo de {T:.4e} s \",end=\"\")\n",
    "print(f\"y excentricidad de {e:.4f}.\")"
   ]
  },
  {
   "cell_type": "markdown",
   "id": "a6e2c905",
   "metadata": {},
   "source": [
    "### Inciso c"
   ]
  },
  {
   "cell_type": "code",
   "execution_count": 11,
   "id": "a814bf44",
   "metadata": {},
   "outputs": [
    {
     "name": "stdout",
     "output_type": "stream",
     "text": [
      "En el afelio la tierra tiene una velocidad de 2.9305e+04 m/s y una distancia al sol de 1.5203e+11 m.\n",
      "La tierra tiene una orbita con periodo de 1.0002 años y excentricidad de 0.0165.\n"
     ]
    }
   ],
   "source": [
    "# Y por último lo comprobamos para los valores de la tierra\n",
    "l1T = 1.4710e11 # m\n",
    "v1T = 3.0287e4 # m/s\n",
    "v2T,l2T,TT,eT = FuncionFinal(v1T,l1T)\n",
    "TTY = TT/(365*24*60*60) # Cambiamos las unidades del periodo a años\n",
    "print(\"En el afelio la tierra tiene \",end=\"\")\n",
    "print(f\"una velocidad de {v2T:.4e} m/s \",end=\"\")\n",
    "print(f\"y una distancia al sol de {l2T:.4e} m.\")\n",
    "print(\"La tierra tiene una orbita con \",end=\"\")\n",
    "print(f\"periodo de {TTY:.4f} años \",end=\"\")\n",
    "print(f\"y excentricidad de {eT:.4f}.\")"
   ]
  },
  {
   "cell_type": "code",
   "execution_count": 12,
   "id": "5fe93b8f",
   "metadata": {},
   "outputs": [
    {
     "name": "stdout",
     "output_type": "stream",
     "text": [
      "En el afelio el cometa Halley tiene una velocidad de 9.0668e+02 m/s y una distancia al sol de 5.2822e+12 m.\n",
      "El cometa Halley tiene una orbita con periodo de 76.0817 años y excentricidad de 0.9673.\n"
     ]
    }
   ],
   "source": [
    "# Y para los valores del cometa Halley\n",
    "l1H = 8.7830e10 # m\n",
    "v1H = 5.4529e4 # m/s\n",
    "v2H,l2H,TH,eH = FuncionFinal(v1H,l1H)\n",
    "THY = TH/(365*24*60*60) # Cambiamos las unidades del periodo a años\n",
    "print(\"En el afelio el cometa Halley tiene \",end=\"\")\n",
    "print(f\"una velocidad de {v2H:.4e} m/s \",end=\"\")\n",
    "print(f\"y una distancia al sol de {l2H:.4e} m.\")\n",
    "print(\"El cometa Halley tiene una orbita con \",end=\"\")\n",
    "print(f\"periodo de {THY:.4f} años \",end=\"\")\n",
    "print(f\"y excentricidad de {eH:.4f}.\")"
   ]
  },
  {
   "cell_type": "code",
   "execution_count": null,
   "id": "00f10820",
   "metadata": {},
   "outputs": [],
   "source": []
  }
 ],
 "metadata": {
  "kernelspec": {
   "display_name": "Python 3 (ipykernel)",
   "language": "python",
   "name": "python3"
  },
  "language_info": {
   "codemirror_mode": {
    "name": "ipython",
    "version": 3
   },
   "file_extension": ".py",
   "mimetype": "text/x-python",
   "name": "python",
   "nbconvert_exporter": "python",
   "pygments_lexer": "ipython3",
   "version": "3.12.3"
  }
 },
 "nbformat": 4,
 "nbformat_minor": 5
}
